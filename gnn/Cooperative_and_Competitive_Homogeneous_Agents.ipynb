{
 "cells": [
  {
   "cell_type": "code",
   "execution_count": 1,
   "metadata": {},
   "outputs": [],
   "source": [
    "import plotly.graph_objects as go\n",
    "import networkx as nx\n",
    "import numpy as np\n",
    "import matplotlib.pylab as plt\n",
    "\n",
    "from utils import (get_edges, \n",
    "                   get_nodes, \n",
    "                   get_degree, \n",
    "                   build_all_to_all, \n",
    "                   build_graph_viz, \n",
    "                   build_node_trace, \n",
    "                   build_edge_trace)"
   ]
  },
  {
   "cell_type": "markdown",
   "metadata": {},
   "source": [
    "# Cooperative and Competitive Homogeneous Agents"
   ]
  },
  {
   "cell_type": "code",
   "execution_count": 2,
   "metadata": {},
   "outputs": [],
   "source": [
    "# G = build_all_to_all(10)"
   ]
  },
  {
   "cell_type": "code",
   "execution_count": 3,
   "metadata": {},
   "outputs": [],
   "source": [
    "# adjacency_matrix = nx.linalg.graphmatrix.adjacency_matrix(G)\n",
    "# print(adjacency_matrix.todense())"
   ]
  },
  {
   "cell_type": "code",
   "execution_count": 4,
   "metadata": {},
   "outputs": [],
   "source": [
    "# resistance term: d_{ij} \n",
    "# In the general model, a larger dij implies a greater resistance of agent i to \n",
    "# forming a non-neutral opinion about option j\n",
    "\n",
    "# social term: \n",
    "# the  product  of  an attention parameter ui ≥ 0 \n",
    "# and a saturating function of weighted sums of agent opinions that are available \n",
    "# to agent i and influence its opinion  of  option j\n",
    "# The  social  term  can  also  be  interpreted as an activation term\n",
    "\n",
    "# The magnitude of Ajl_ik determines the  strength  of  influence  of  agent k’s  \n",
    "# opinion  about  option l on  agent i’s  opinion  about  option j,  and  the\n",
    "# sign  of Ajl_ik determines whether this interaction is excitatory (Ajlik>0) \n",
    "# or inhibitory (Ajlik<0).\n",
    "\n",
    "# The input bij ∈ R represents  an  input  signal  from  the environment  \n",
    "# or  a  bias  or  predisposition  that  directly  affects agent i’s  opinion  of  option j"
   ]
  },
  {
   "cell_type": "code",
   "execution_count": 5,
   "metadata": {},
   "outputs": [],
   "source": [
    "# eq 5a (z is the relative opinion)\n",
    "# z_ij_dot = F_ij(Z) - 1/N_o \\sum_l F_il(Z)\n",
    "# F_ij(Z) = -d_ij z_ij + u_i ( S_1(\\sum_k Ajj_ik z_kj) + \\sum_(l neq j) S_2(\\sum_k Ajl_ik z_kl)) + b_ij"
   ]
  },
  {
   "cell_type": "code",
   "execution_count": 6,
   "metadata": {},
   "outputs": [],
   "source": [
    "def compute_zdot(D, u, Z, A, B):\n",
    "    '''\n",
    "    computes equation of motion of relative opinions\n",
    "    \n",
    "    Zij_dot = F_ij(Z) - (1/No) * \\sum_(l = 1)^No F_il(Z)\n",
    "    \n",
    "    Arguments:\n",
    "    ---------\n",
    "    D: matrix \n",
    "        size - (number of agents x number of options)\n",
    "        resistance term. In the general model, a larger dij implies a greater resistance of agent i to \n",
    "        forming a non-neutral opinion about option j.\n",
    "    \n",
    "    u: vector\n",
    "        len(U) = number of agents\n",
    "        attention parameter.\n",
    "        \n",
    "    Z: matrix\n",
    "        size - (number of agents x number of options)\n",
    "        \n",
    "    A: tuple\n",
    "        (Inter-agent, same-option coupling: Ajj_ik, i neq k (Size: No x Na x Na)\n",
    "         Inter-agent, inter-option coupling: Ajl_ik, i neq k,j neq l (Size: (No-1) x No x Na x Na) )\n",
    "         \n",
    "    B: matrix\n",
    "        size - (number of agents x number of options)\n",
    "        represents an input signal from the environment or a bias or predisposition that  \n",
    "        directly affects agent i’s opinion of option j\n",
    "        \n",
    "    Returns:\n",
    "    -------\n",
    "    Z_dot: matrix\n",
    "        size - ()\n",
    "        Zij_dot = F_ij(Z) - (1/No) * \\sum_(l = 1)^No F_il(Z)\n",
    "    '''\n",
    "    \n",
    "    num_options = D.shape[-1]\n",
    "    \n",
    "    F = compute_drift(D, u, Z, A, B)\n",
    "    \n",
    "    average_option_drift = 1/num_options * np.einsum('il->i', F)\n",
    "\n",
    "    return F - average_option_drift[:, np.newaxis]"
   ]
  },
  {
   "cell_type": "code",
   "execution_count": 7,
   "metadata": {},
   "outputs": [],
   "source": [
    "def compute_drift(D, u, Z, A, B):\n",
    "    '''\n",
    "    computes drift using S_1 = S_2 = tanh\n",
    "    \n",
    "    F_ij(Z) = -d_ij z_ij + u_i ( S_1(\\sum_k Ajj_ik z_kj) + \\sum_(l neq j) S_2(\\sum_k Ajl_ik z_kl)) + b_ij\n",
    "    \n",
    "    \n",
    "    Arguments:\n",
    "    ---------\n",
    "    D: matrix \n",
    "        size - (number of agents x number of options)\n",
    "        resistance term. In the general model, a larger dij implies a greater resistance of agent i to \n",
    "        forming a non-neutral opinion about option j.\n",
    "    \n",
    "    u: vector\n",
    "        len(U) = number of agents\n",
    "        attention parameter.\n",
    "        \n",
    "    Z: matrix\n",
    "        size - (number of agents x number of options)\n",
    "        \n",
    "    A: tuple\n",
    "        (\n",
    "    B: matrix\n",
    "        size - (number of agents x number of options)\n",
    "        represents an input signal from the environment or a bias or predisposition that  \n",
    "        directly affects agent i’s opinion of option j\n",
    "    '''\n",
    "    social_term = compute_social_term(A, Z, u)\n",
    "    \n",
    "    # F_ij(Z) = -d_ij z_ij + u_i ( S_1(\\sum_k Ajj_ik z_kj) + \\sum_(l neq j) S_2(\\sum_k Ajl_ik z_kl)) + b_ij\n",
    "    return -D * Z + social_term + B"
   ]
  },
  {
   "cell_type": "code",
   "execution_count": 8,
   "metadata": {},
   "outputs": [],
   "source": [
    "def compute_social_term(A, Z, u):\n",
    "    '''\n",
    "    computes the social term which is\n",
    "    the  product  of  an attention parameter ui ≥ 0 \n",
    "    and a saturating function of weighted sums of agent opinions that are available \n",
    "    to agent i and influence its opinion  of  option j\n",
    "    \n",
    "    Arguments:\n",
    "    ----------\n",
    "    inter_agent_same_option: matrix\n",
    "        Size: number of options x number of agents x number of agents\n",
    "        Inter-agent, same-option coupling: Ajj_ik, i neq k \n",
    "        \n",
    "    inter_agent_inter_option: matrix\n",
    "        Size: (number of options - 1) x number of options x number of agents x number of agents)\n",
    "        Inter-agent, inter-option coupling: Ajl_ik, i neq k,j neq l \n",
    "    \n",
    "    Z: matrix\n",
    "        Size: (number of agents x number of options)\n",
    "        \n",
    "    u: vector:\n",
    "        Size: (number of agents x 1)\n",
    "        \n",
    "    Returns:\n",
    "    -------\n",
    "    social_term: matrix\n",
    "        Size: number of agents x number of options\n",
    "    '''\n",
    "    inter_agent_same_option, inter_agent_inter_option = split_agent_option_matrix(A)\n",
    "    # print('inter_agent_same_option shape: {}'.format(inter_agent_same_option.shape))\n",
    "    # print('inter_agent_inter_option shape: {}'.format(inter_agent_inter_option.shape))\n",
    "\n",
    "    weighted_inter_agent_same_option = np.einsum('jik,kj->ij', inter_agent_same_option, Z)\n",
    "    thresholded_weighted_inter_agent_same_option = np.tanh(weighted_inter_agent_same_option)\n",
    "    # print('weighted_inter_agent_same_option shape: {}'.format(weighted_inter_agent_same_option.shape))\n",
    "    \n",
    "    weighted_inter_agent_inter_option = np.einsum('jlik,kl->jli', inter_agent_inter_option, Z)\n",
    "    thresh_weighted_inter_agent_inter_option = np.tanh(weighted_inter_agent_inter_option)\n",
    "    # print('weighted_inter_agent_inter_option shape: {}'.format(weighted_inter_agent_inter_option.shape))\n",
    "    # print('weighted_inter_agent_inter_option: {}'.format(weighted_inter_agent_inter_option))\n",
    "\n",
    "    # Sum the activations over each distinct option l\n",
    "    cumulative_thresh_weighted_inter_agent_inter_option = \\\n",
    "        np.einsum('jli->ij', thresh_weighted_inter_agent_inter_option)\n",
    "    # print('cumulative_thresh_weighted_inter_agent_inter_option shape: {}'.format(cumulative_thresh_weighted_inter_agent_inter_option.shape))\n",
    "\n",
    "    social_term = u * (thresholded_weighted_inter_agent_same_option + \\\n",
    "                       cumulative_thresh_weighted_inter_agent_inter_option)\n",
    "    \n",
    "    return social_term"
   ]
  },
  {
   "cell_type": "code",
   "execution_count": 9,
   "metadata": {},
   "outputs": [],
   "source": [
    "def split_agent_option_matrix(A):\n",
    "    '''\n",
    "    split A into inter_agent_same_option and inter_agent_inter_option\n",
    "    \n",
    "    Arguments:\n",
    "    ---------\n",
    "    A: matrix\n",
    "        Size: (number of options x number of options x number of agents x number of agents)\n",
    "    \n",
    "    Returns:\n",
    "    -------\n",
    "    inter_agent_same_option:\n",
    "        Size: (number of options x number of agents x number of agents)\n",
    "        Inter-agent, same-option coupling: Ajj_ik, i neq k \n",
    "        \n",
    "    inter_agent_inter_option:\n",
    "        Size: (number of options x number of options x number of agents x number of agents)\n",
    "        Inter-agent, inter-option coupling: Ajl_ik, i neq k,j neq l\n",
    "    '''\n",
    "    num_options = A.shape[0]\n",
    "    num_agents = A.shape[2]\n",
    "    \n",
    "    inter_agent_same_option = np.zeros((num_options, num_agents, num_agents))\n",
    "    inter_agent_inter_option = A.copy()\n",
    "    \n",
    "    for option_idx in range(num_options):\n",
    "        inter_agent_same_option[option_idx, :, :] = inter_agent_inter_option[option_idx, option_idx, :, :]\n",
    "        inter_agent_inter_option[option_idx, option_idx, :, :] = 0\n",
    "        \n",
    "    return inter_agent_same_option, inter_agent_inter_option"
   ]
  },
  {
   "cell_type": "code",
   "execution_count": 10,
   "metadata": {},
   "outputs": [],
   "source": [
    "def test_compute_drift():\n",
    "    \n",
    "    Na = 2 # number of agents\n",
    "    No = 4 # number of options\n",
    "    \n",
    "    A = np.ones((No, No, Na, Na))\n",
    "    \n",
    "    # Opinion matrix of agent i, opinion j\n",
    "    Z = np.random.rand(Na, No)\n",
    "    \n",
    "    # Drift Coefficient Matrix\n",
    "    D = np.random.rand(Na, No)\n",
    "    \n",
    "    # Bias Matrix\n",
    "    B = np.random.rand(Na, No)\n",
    "    \n",
    "    # Attention parameter\n",
    "    u = np.random.rand(Na, 1)\n",
    "        \n",
    "    F = compute_drift(D, u, Z, A, B)\n",
    "    \n",
    "    # print(F)\n",
    "    \n",
    "    Zd = compute_zdot(D, u, Z, A, B)\n",
    "    \n",
    "    # print(Zd)\n"
   ]
  },
  {
   "cell_type": "code",
   "execution_count": 11,
   "metadata": {},
   "outputs": [],
   "source": [
    "# DRIVER\n",
    "\n",
    "test_compute_drift()"
   ]
  },
  {
   "cell_type": "code",
   "execution_count": 12,
   "metadata": {},
   "outputs": [],
   "source": [
    "def euler_integration(z0, dt, T, D, u, B, A):\n",
    "    '''\n",
    "    '''\n",
    "    Z_t = [z0]\n",
    "    for t in np.arange(0, T, dt):\n",
    "        Z_cur = Z_t[-1]\n",
    "        Z_next = Z_cur + dt * compute_zdot(D, u, Z_cur, A, B)\n",
    "        Z_t.append(Z_next)\n",
    "        \n",
    "    return np.asarray(Z_t)"
   ]
  },
  {
   "cell_type": "code",
   "execution_count": 13,
   "metadata": {},
   "outputs": [],
   "source": [
    "def build_homogeneous_A(A_tilde, num_options, alpha, beta, gamma, delta):\n",
    "    '''\n",
    "    '''\n",
    "    num_agents = A_tilde.shape[0]\n",
    "    A = np.zeros((num_options, num_options, num_agents, num_agents))\n",
    "    \n",
    "    # fill in A\n",
    "    for option_j in range(num_options):\n",
    "        for option_l in range(num_options):\n",
    "            for agent_i in range(num_agents):\n",
    "                for agent_k in range(num_agents):\n",
    "                    # Ajjii = α\n",
    "                    if option_j == option_l and agent_i == agent_k:\n",
    "                        A[option_j, option_j, agent_i, agent_i] = alpha\n",
    "                    # Ajlii = β   \n",
    "                    elif agent_i == agent_k:\n",
    "                        A[option_j, option_l, agent_i, agent_i] = beta\n",
    "                    # Ajjik = γ ̃aik\n",
    "                    elif option_j == option_l:\n",
    "                        A[option_j, option_j, agent_i, agent_k] = gamma * A_tilde[agent_i, agent_k]\n",
    "                    else:\n",
    "                        A[option_j, option_l, agent_i, agent_k] = delta * A_tilde[agent_i, agent_k]\n",
    "    \n",
    "    return A"
   ]
  },
  {
   "cell_type": "code",
   "execution_count": 14,
   "metadata": {},
   "outputs": [],
   "source": [
    "def reproduce_figure_2a(T, \n",
    "                        dt, \n",
    "                        num_agents, \n",
    "                        num_options, \n",
    "                        gamma, \n",
    "                        delta,\n",
    "                        alpha,\n",
    "                        beta,\n",
    "                        d,\n",
    "                        u,\n",
    "                        b,\n",
    "                        A_tilde,\n",
    "                        Z):\n",
    "    \n",
    "    A = build_homogeneous_A(A_tilde, num_options, alpha, beta, gamma, delta)\n",
    "    \n",
    "    # Drift Coefficient Matrix\n",
    "    D = np.ones((num_agents, num_options)) * d\n",
    "    \n",
    "    # Bias Matrix\n",
    "    B = np.ones((num_agents, num_options)) * b\n",
    "    \n",
    "    # Attention parameter\n",
    "    u = np.ones((num_agents, 1)) * u\n",
    "    \n",
    "    return euler_integration(Z, dt, T, D, u, B, A)"
   ]
  },
  {
   "cell_type": "code",
   "execution_count": 15,
   "metadata": {},
   "outputs": [],
   "source": [
    "def reproduce_figure_2b(T, \n",
    "                        dt, \n",
    "                        num_agents, \n",
    "                        num_options, \n",
    "                        gamma, \n",
    "                        delta,\n",
    "                        alpha,\n",
    "                        beta,\n",
    "                        d,\n",
    "                        u,\n",
    "                        b,\n",
    "                        A_tilde,\n",
    "                        Z):\n",
    "    \n",
    "    A = build_homogeneous_A(A_tilde, num_options, alpha, beta, gamma, delta)\n",
    "    \n",
    "    # Drift Coefficient Matrix\n",
    "    D = np.ones((num_agents, num_options)) * d\n",
    "    \n",
    "    # Bias Matrix\n",
    "    B = np.ones((num_agents, num_options)) * b\n",
    "    \n",
    "    # Attention parameter\n",
    "    u = np.ones((num_agents, 1)) * u\n",
    "    \n",
    "    return euler_integration(Z, dt, T, D, u, B, A)"
   ]
  },
  {
   "cell_type": "code",
   "execution_count": 23,
   "metadata": {},
   "outputs": [],
   "source": [
    "# hyperparameters\n",
    "dt = 1e-4\n",
    "num_agents = 8\n",
    "num_options = 2\n",
    "\n",
    "alpha = 0.2\n",
    "beta = 0.1\n",
    "d = 1.\n",
    "u = 3.\n",
    "b = 0.\n",
    "\n",
    "T_consensus = 10\n",
    "gamma_consensus = 0.2\n",
    "delta_consensus = -0.1\n",
    "\n",
    "T_dissensus = 30\n",
    "gamma_dissensus = -0.1\n",
    "delta_dissensus = 0.2\n",
    "\n",
    "A_tilde = np.random.rand(num_agents, num_agents)\n",
    "# Opinion matrix of agent i, opinion j\n",
    "Z = np.random.rand(num_agents, num_options) - 0.5"
   ]
  },
  {
   "cell_type": "code",
   "execution_count": 24,
   "metadata": {},
   "outputs": [
    {
     "data": {
      "text/plain": [
       "Text(0, 0.5, 'z_i')"
      ]
     },
     "execution_count": 24,
     "metadata": {},
     "output_type": "execute_result"
    },
    {
     "data": {
      "image/png": "[encoded data removed]",
      "text/plain": [
       "<Figure size 720x432 with 1 Axes>"
      ]
     },
     "metadata": {
      "needs_background": "light"
     },
     "output_type": "display_data"
    }
   ],
   "source": [
    "Z_t = reproduce_figure_2a(T_consensus, \n",
    "                        dt, \n",
    "                        num_agents, \n",
    "                        num_options, \n",
    "                        gamma_consensus, \n",
    "                        delta_consensus,\n",
    "                        alpha,\n",
    "                        beta,\n",
    "                        d,\n",
    "                        u,\n",
    "                        b,\n",
    "                        A_tilde,\n",
    "                        Z)\n",
    "\n",
    "plt.figure(figsize=[10,6])\n",
    "plt.plot(Z_t[:,:,0])\n",
    "plt.xlabel('t')\n",
    "plt.ylabel('z_i')"
   ]
  },
  {
   "cell_type": "code",
   "execution_count": 25,
   "metadata": {},
   "outputs": [
    {
     "data": {
      "text/plain": [
       "Text(0, 0.5, 'z_i')"
      ]
     },
     "execution_count": 25,
     "metadata": {},
     "output_type": "execute_result"
    },
    {
     "data": {
      "image/png": "[encoded data removed]",
      "text/plain": [
       "<Figure size 720x432 with 1 Axes>"
      ]
     },
     "metadata": {
      "needs_background": "light"
     },
     "output_type": "display_data"
    }
   ],
   "source": [
    "Z_t = reproduce_figure_2b(T_dissensus, \n",
    "                        dt, \n",
    "                        num_agents, \n",
    "                        num_options, \n",
    "                        gamma_dissensus, \n",
    "                        delta_dissensus,\n",
    "                        alpha,\n",
    "                        beta,\n",
    "                        d,\n",
    "                        u,\n",
    "                        b,\n",
    "                        A_tilde,\n",
    "                        Z)\n",
    "\n",
    "plt.figure(figsize=[10,6])\n",
    "plt.plot(Z_t[:,:,0])\n",
    "plt.xlabel('t')\n",
    "plt.ylabel('z_i')"
   ]
  },
  {
   "cell_type": "code",
   "execution_count": null,
   "metadata": {},
   "outputs": [],
   "source": []
  }
 ],
 "metadata": {
  "kernelspec": {
   "display_name": "Python 3",
   "language": "python",
   "name": "python3"
  },
  "language_info": {
   "codemirror_mode": {
    "name": "ipython",
    "version": 3
   },
   "file_extension": ".py",
   "mimetype": "text/x-python",
   "name": "python",
   "nbconvert_exporter": "python",
   "pygments_lexer": "ipython3",
   "version": "3.6.8"
  }
 },
 "nbformat": 4,
 "nbformat_minor": 4
}
