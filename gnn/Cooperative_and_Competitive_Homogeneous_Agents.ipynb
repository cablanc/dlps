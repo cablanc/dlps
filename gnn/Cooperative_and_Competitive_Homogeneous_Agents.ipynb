{
 "cells": [
  {
   "cell_type": "code",
   "execution_count": 1,
   "metadata": {},
   "outputs": [],
   "source": [
    "import plotly.graph_objects as go\n",
    "import networkx as nx\n",
    "import numpy as np\n",
    "\n",
    "from utils import (get_edges, \n",
    "                   get_nodes, \n",
    "                   get_degree, \n",
    "                   build_all_to_all, \n",
    "                   build_graph_viz, \n",
    "                   build_node_trace, \n",
    "                   build_edge_trace)"
   ]
  },
  {
   "cell_type": "markdown",
   "metadata": {},
   "source": [
    "# Visualize random graph"
   ]
  },
  {
   "cell_type": "code",
   "execution_count": 2,
   "metadata": {},
   "outputs": [],
   "source": [
    "G = nx.random_geometric_graph(200, 0.125)"
   ]
  },
  {
   "cell_type": "code",
   "execution_count": 3,
   "metadata": {},
   "outputs": [],
   "source": [
    "edge_x, edge_y = get_edges(G)\n",
    "node_x, node_y = get_nodes(G)\n",
    "node_degree, node_text = get_degree(G)"
   ]
  },
  {
   "cell_type": "code",
   "execution_count": 4,
   "metadata": {},
   "outputs": [],
   "source": [
    "# edge_trace = build_edge_trace(edge_x, edge_y)\n",
    "# node_trace = build_node_trace(node_x, node_y)\n",
    "# node_trace.marker.color = node_degree\n",
    "# node_trace.text = node_text\n",
    "\n",
    "# fig = build_graph_viz(edge_trace, node_trace)\n",
    "# fig.show()"
   ]
  },
  {
   "cell_type": "markdown",
   "metadata": {},
   "source": [
    "# Cooperative and Competitive Homogeneous Agents"
   ]
  },
  {
   "cell_type": "code",
   "execution_count": 5,
   "metadata": {},
   "outputs": [],
   "source": [
    "G = build_all_to_all(10)"
   ]
  },
  {
   "cell_type": "code",
   "execution_count": 6,
   "metadata": {},
   "outputs": [
    {
     "name": "stdout",
     "output_type": "stream",
     "text": [
      "[[0 1 1 1 1 1 1 1 1 1]\n",
      " [1 0 1 1 1 1 1 1 1 1]\n",
      " [1 1 0 1 1 1 1 1 1 1]\n",
      " [1 1 1 0 1 1 1 1 1 1]\n",
      " [1 1 1 1 0 1 1 1 1 1]\n",
      " [1 1 1 1 1 0 1 1 1 1]\n",
      " [1 1 1 1 1 1 0 1 1 1]\n",
      " [1 1 1 1 1 1 1 0 1 1]\n",
      " [1 1 1 1 1 1 1 1 0 1]\n",
      " [1 1 1 1 1 1 1 1 1 0]]\n"
     ]
    }
   ],
   "source": [
    "adjacency_matrix = nx.linalg.graphmatrix.adjacency_matrix(G)\n",
    "print(adjacency_matrix.todense())"
   ]
  },
  {
   "cell_type": "code",
   "execution_count": 7,
   "metadata": {},
   "outputs": [],
   "source": [
    "# resistance term: d_{ij} \n",
    "# In the general model, a larger dij implies a greater resistance of agent i to \n",
    "# forming a non-neutral opinion about option j\n",
    "\n",
    "# social term: \n",
    "# the  product  of  an attention parameter ui ≥ 0 \n",
    "# and a saturating function of weighted sums of agent opinions that are available \n",
    "# to agent i and influence its opinion  of  option j\n",
    "# The  social  term  can  also  be  interpreted as an activation term\n",
    "\n",
    "# The magnitude of Ajl_ik determines the  strength  of  influence  of  agent k’s  \n",
    "# opinion  about  option l on  agent i’s  opinion  about  option j,  and  the\n",
    "# sign  of Ajl_ik determines whether this interaction is excitatory (Ajlik>0) \n",
    "# orinhibitory (Ajlik<0).\n",
    "\n",
    "# The input bij ∈ R represents  an  input  signal  from  the environment  \n",
    "# or  a  bias  or  predisposition  that  directly  affects agent i’s  opinion  of  option j"
   ]
  },
  {
   "cell_type": "code",
   "execution_count": 8,
   "metadata": {},
   "outputs": [],
   "source": [
    "# eq 5a (z is the relative opinion)\n",
    "# z_ij_dot = F_ij(Z) - 1/N_o \\sum_l F_il(Z)\n",
    "# F_ij(Z) = -d_ij z_ij + u_i ( S_1(\\sum_k Ajj_ik z_kj) + \\sum_(l neq j) S_2(\\sum_k Ajl_ik z_kl)) + b_ij"
   ]
  },
  {
   "cell_type": "code",
   "execution_count": 10,
   "metadata": {},
   "outputs": [],
   "source": [
    "def compute_drift(D, u, Z, A, B):\n",
    "    '''\n",
    "    computes drift using S_1 = S_2 = tanh\n",
    "    \n",
    "    F_ij(Z) = -d_ij z_ij + u_i ( S_1(\\sum_k Ajj_ik z_kj) + \\sum_(l neq j) S_2(\\sum_k Ajl_ik z_kl)) + b_ij\n",
    "    \n",
    "    \n",
    "    Arguments:\n",
    "    ---------\n",
    "    D: matrix \n",
    "        size - (number of agents x number of options)\n",
    "        resistance term. In the general model, a larger dij implies a greater resistance of agent i to \n",
    "        forming a non-neutral opinion about option j.\n",
    "    \n",
    "    u: vector\n",
    "        len(U) = number of agents\n",
    "        attention parameter.\n",
    "        \n",
    "    Z: matrix\n",
    "        size - (number of agents x number of options)\n",
    "        \n",
    "    A: tuple\n",
    "        (Intra-agent, same-option coupling: Ajj_ii\n",
    "         Intra-agent, inter-option coupling: Ajl_ii, j neq l\n",
    "         Inter-agent, same-option coupling: Ajj_ik, i neq k\n",
    "         Inter-agent, inter-option coupling: Ajl_ik, i neq k,j neq l)\n",
    "         \n",
    "    B: matrix\n",
    "    '''\n",
    "    intra_agent_same_option = A[0] # 2D matrix\n",
    "    intra_agent_inter_option = A[2]\n",
    "    inter_agent_same_option = A[3] # 3D matrix\n",
    "    inter_agent_inter_option = A[4]\n",
    "    \n",
    "    social_term = compute_social_term(inter_agent_same_option, inter_agent_inter_option, Z)\n",
    "    \n",
    "    # F_ij(Z) = -d_ij z_ij + u_i ( S_1(\\sum_k Ajj_ik z_kj) + \\sum_(l neq j) S_2(\\sum_k Ajl_ik z_kl)) + b_ij\n",
    "    return -D * Z + social_term + B"
   ]
  },
  {
   "cell_type": "code",
   "execution_count": null,
   "metadata": {},
   "outputs": [],
   "source": [
    "def compute_social_term(inter_agent_same_option, inter_agent_inter_option, Z):\n",
    "    # social term is\n",
    "    # the  product  of  an attention parameter ui ≥ 0 \n",
    "    # and a saturating function of weighted sums of agent opinions that are available \n",
    "    # to agent i and influence its opinion  of  option j\n",
    "    \n",
    "    # \\sum_k Ajj_ik z_kj\n",
    "    weighted_inter_agent_same_option = np.einsum('jik,kj->ji', inter_agent_same_option, Z)\n",
    "    thresholded_weighted_inter_agent_same_option = np.tanh(weighted_inter_agent_same_option)\n",
    "    # \\sum_k Ajl_ik z_kl\n",
    "    weighted_inter_agent_inter_option = np.einsum('jlik,kl->jli', inter_agent_inter_option, Z)\n",
    "    thresh_weighted_inter_agent_inter_option = np.tanh(weighted_inter_agent_inter_option)\n",
    "    avg_thresh_weighted_inter_agent_inter_option = np.mean(thresh_weighted_inter_agent_inter_option, axis=1)\n",
    "    \n",
    "    social_term = u * (thresholded_weighted_inter_agent_same_option + avg_thresh_weighted_inter_agent_inter_option)\n",
    "    \n",
    "    return social_term"
   ]
  }
 ],
 "metadata": {
  "kernelspec": {
   "display_name": "Python 3",
   "language": "python",
   "name": "python3"
  },
  "language_info": {
   "codemirror_mode": {
    "name": "ipython",
    "version": 3
   },
   "file_extension": ".py",
   "mimetype": "text/x-python",
   "name": "python",
   "nbconvert_exporter": "python",
   "pygments_lexer": "ipython3",
   "version": "3.6.8"
  }
 },
 "nbformat": 4,
 "nbformat_minor": 4
}
