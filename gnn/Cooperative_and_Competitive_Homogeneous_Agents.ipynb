{
 "cells": [
  {
   "cell_type": "code",
   "execution_count": 4,
   "metadata": {},
   "outputs": [],
   "source": [
    "import plotly.graph_objects as go\n",
    "import networkx as nx\n",
    "import numpy as np\n",
    "\n",
    "from utils import (get_edges, \n",
    "                   get_nodes, \n",
    "                   get_degree, \n",
    "                   build_all_to_all, \n",
    "                   build_graph_viz, \n",
    "                   build_node_trace, \n",
    "                   build_edge_trace)"
   ]
  },
  {
   "cell_type": "markdown",
   "metadata": {},
   "source": [
    "# Cooperative and Competitive Homogeneous Agents"
   ]
  },
  {
   "cell_type": "code",
   "execution_count": 7,
   "metadata": {},
   "outputs": [],
   "source": [
    "G = build_all_to_all(10)"
   ]
  },
  {
   "cell_type": "code",
   "execution_count": 8,
   "metadata": {},
   "outputs": [
    {
     "name": "stdout",
     "output_type": "stream",
     "text": [
      "[[0 1 1 1 1 1 1 1 1 1]\n",
      " [1 0 1 1 1 1 1 1 1 1]\n",
      " [1 1 0 1 1 1 1 1 1 1]\n",
      " [1 1 1 0 1 1 1 1 1 1]\n",
      " [1 1 1 1 0 1 1 1 1 1]\n",
      " [1 1 1 1 1 0 1 1 1 1]\n",
      " [1 1 1 1 1 1 0 1 1 1]\n",
      " [1 1 1 1 1 1 1 0 1 1]\n",
      " [1 1 1 1 1 1 1 1 0 1]\n",
      " [1 1 1 1 1 1 1 1 1 0]]\n"
     ]
    }
   ],
   "source": [
    "adjacency_matrix = nx.linalg.graphmatrix.adjacency_matrix(G)\n",
    "print(adjacency_matrix.todense())"
   ]
  },
  {
   "cell_type": "code",
   "execution_count": 7,
   "metadata": {},
   "outputs": [],
   "source": [
    "# resistance term: d_{ij} \n",
    "# In the general model, a larger dij implies a greater resistance of agent i to \n",
    "# forming a non-neutral opinion about option j\n",
    "\n",
    "# social term: \n",
    "# the  product  of  an attention parameter ui ≥ 0 \n",
    "# and a saturating function of weighted sums of agent opinions that are available \n",
    "# to agent i and influence its opinion  of  option j\n",
    "# The  social  term  can  also  be  interpreted as an activation term\n",
    "\n",
    "# The magnitude of Ajl_ik determines the  strength  of  influence  of  agent k’s  \n",
    "# opinion  about  option l on  agent i’s  opinion  about  option j,  and  the\n",
    "# sign  of Ajl_ik determines whether this interaction is excitatory (Ajlik>0) \n",
    "# or inhibitory (Ajlik<0).\n",
    "\n",
    "# The input bij ∈ R represents  an  input  signal  from  the environment  \n",
    "# or  a  bias  or  predisposition  that  directly  affects agent i’s  opinion  of  option j"
   ]
  },
  {
   "cell_type": "code",
   "execution_count": 8,
   "metadata": {},
   "outputs": [],
   "source": [
    "# eq 5a (z is the relative opinion)\n",
    "# z_ij_dot = F_ij(Z) - 1/N_o \\sum_l F_il(Z)\n",
    "# F_ij(Z) = -d_ij z_ij + u_i ( S_1(\\sum_k Ajj_ik z_kj) + \\sum_(l neq j) S_2(\\sum_k Ajl_ik z_kl)) + b_ij"
   ]
  },
  {
   "cell_type": "code",
   "execution_count": 184,
   "metadata": {},
   "outputs": [],
   "source": [
    "def compute_zdot(D, u, Z, A, B):\n",
    "    '''\n",
    "    computes equation of motion of relative opinions\n",
    "    \n",
    "    Zij_dot = F_ij(Z) - (1/No) * \\sum_(l = 1)^No F_il(Z)\n",
    "    \n",
    "    Arguments:\n",
    "    ---------\n",
    "    D: matrix \n",
    "        size - (number of agents x number of options)\n",
    "        resistance term. In the general model, a larger dij implies a greater resistance of agent i to \n",
    "        forming a non-neutral opinion about option j.\n",
    "    \n",
    "    u: vector\n",
    "        len(U) = number of agents\n",
    "        attention parameter.\n",
    "        \n",
    "    Z: matrix\n",
    "        size - (number of agents x number of options)\n",
    "        \n",
    "    A: tuple\n",
    "        (Intra-agent, same-option coupling: Ajj_ii (not needed)\n",
    "         Intra-agent, inter-option coupling: Ajl_ii, j neq l (not needed)\n",
    "         Inter-agent, same-option coupling: Ajj_ik, i neq k (Size: No x Na x Na)\n",
    "         Inter-agent, inter-option coupling: Ajl_ik, i neq k,j neq l (Size: (No-1) x No x Na x Na) )\n",
    "        \n",
    "         \n",
    "    B: matrix\n",
    "    '''\n",
    "    \n",
    "    No = len(A[0])\n",
    "    \n",
    "    F = compute_drift(D, u, Z, A, B)\n",
    "    \n",
    "    average_option_drift = 1/No * np.einsum('il->i', F)\n",
    "\n",
    "    return F - average_option_drift[:, np.newaxis]"
   ]
  },
  {
   "cell_type": "code",
   "execution_count": 185,
   "metadata": {},
   "outputs": [],
   "source": [
    "def compute_drift(D, u, Z, A, B):\n",
    "    '''\n",
    "    computes drift using S_1 = S_2 = tanh\n",
    "    \n",
    "    F_ij(Z) = -d_ij z_ij + u_i ( S_1(\\sum_k Ajj_ik z_kj) + \\sum_(l neq j) S_2(\\sum_k Ajl_ik z_kl)) + b_ij\n",
    "    \n",
    "    \n",
    "    Arguments:\n",
    "    ---------\n",
    "    D: matrix \n",
    "        size - (number of agents x number of options)\n",
    "        resistance term. In the general model, a larger dij implies a greater resistance of agent i to \n",
    "        forming a non-neutral opinion about option j.\n",
    "    \n",
    "    u: vector\n",
    "        len(U) = number of agents\n",
    "        attention parameter.\n",
    "        \n",
    "    Z: matrix\n",
    "        size - (number of agents x number of options)\n",
    "        \n",
    "    A: tuple\n",
    "        (Intra-agent, same-option coupling: Ajj_ii (not needed)\n",
    "         Intra-agent, inter-option coupling: Ajl_ii, j neq l (not needed)\n",
    "         Inter-agent, same-option coupling: Ajj_ik, i neq k (Size: No x Na x Na)\n",
    "         Inter-agent, inter-option coupling: Ajl_ik, i neq k,j neq l (Size: (No-1) x No x Na x Na) )\n",
    "        \n",
    "         \n",
    "    B: matrix\n",
    "    '''\n",
    "#     intra_agent_same_option = A[0] # 2D matrix\n",
    "#     intra_agent_inter_option = A[2]\n",
    "#     inter_agent_same_option = A[3] # 3D matrix\n",
    "#     inter_agent_inter_option = A[4]\n",
    "\n",
    "    # Inter-agent matrices include intra-agent coupling to match summations in paper\n",
    "    inter_agent_same_option = A[0] # 2D matrix\n",
    "    inter_agent_inter_option = A[1] # 3D matrix\n",
    "    \n",
    "    social_term = compute_social_term(inter_agent_same_option, inter_agent_inter_option, Z, u)\n",
    "    \n",
    "    # F_ij(Z) = -d_ij z_ij + u_i ( S_1(\\sum_k Ajj_ik z_kj) + \\sum_(l neq j) S_2(\\sum_k Ajl_ik z_kl)) + b_ij\n",
    "    return -D * Z + social_term + B"
   ]
  },
  {
   "cell_type": "code",
   "execution_count": 186,
   "metadata": {},
   "outputs": [],
   "source": [
    "def compute_social_term(inter_agent_same_option, inter_agent_inter_option, Z, u):\n",
    "    # social term is\n",
    "    # the  product  of  an attention parameter ui ≥ 0 \n",
    "    # and a saturating function of weighted sums of agent opinions that are available \n",
    "    # to agent i and influence its opinion  of  option j\n",
    "    \n",
    "    weighted_inter_agent_same_option = np.einsum('jik,kj->ij', inter_agent_same_option, Z)\n",
    "    thresholded_weighted_inter_agent_same_option = np.tanh(weighted_inter_agent_same_option)\n",
    "    \n",
    "    weighted_inter_agent_inter_option = np.einsum('jlik,kl->ijl', inter_agent_inter_option, Z)\n",
    "    thresh_weighted_inter_agent_inter_option = np.tanh(weighted_inter_agent_inter_option)\n",
    "\n",
    "    # avg_thresh_weighted_inter_agent_inter_option = np.mean(thresh_weighted_inter_agent_inter_option, axis=1)\n",
    "    \n",
    "    # Sum the activations over each distinct option l (check: should be summing over No-1 options)\n",
    "    cumulative_thresh_weighted_inter_agent_inter_option = \\\n",
    "        np.einsum('lij->ij', thresh_weighted_inter_agent_inter_option)\n",
    "    \n",
    "    social_term = u * (thresholded_weighted_inter_agent_same_option + \\\n",
    "                       cumulative_thresh_weighted_inter_agent_inter_option)\n",
    "    \n",
    "    return social_term"
   ]
  },
  {
   "cell_type": "code",
   "execution_count": 187,
   "metadata": {},
   "outputs": [],
   "source": [
    "def test_compute_drift():\n",
    "    \n",
    "    Na = 3 # number of agents\n",
    "    No = 4 # number of options\n",
    "    \n",
    "    # For each option, we get an activation for all Na agents from each other agent (including self-activations)\n",
    "    inter_agent_same_option = np.ones((No, Na, Na)) \n",
    "    \n",
    "    # For each option, for each agent, we get an activation from all Na agents \n",
    "    # about each (No-1) other distinct options\n",
    "    inter_agent_inter_option = np.ones((No-1, No, Na, Na)) \n",
    "    \n",
    "    # Opinion matrix of agent i, opinion j\n",
    "    Z = np.random.rand(Na, No)\n",
    "    \n",
    "    # Drift Coefficient Matrix\n",
    "    D = np.random.rand(Na, No)\n",
    "    \n",
    "    # Bias Matrix\n",
    "    B = np.random.rand(Na, No)\n",
    "    \n",
    "    # Attention parameter\n",
    "    u = np.random.rand(Na,1)\n",
    "\n",
    "    # Make the tuple\n",
    "    A = (inter_agent_same_option, inter_agent_inter_option)\n",
    "    \n",
    "    compute_social_term(inter_agent_same_option, inter_agent_inter_option, Z, u) \n",
    "    \n",
    "    F = compute_drift(D, u, Z, A, B)\n",
    "    \n",
    "    #print(F)\n",
    "    \n",
    "    Zd = compute_zdot(D, u, Z, A, B)\n",
    "    \n",
    "    print(Zd)\n"
   ]
  },
  {
   "cell_type": "code",
   "execution_count": 188,
   "metadata": {},
   "outputs": [
    {
     "name": "stdout",
     "output_type": "stream",
     "text": [
      "[[-0.27901138  0.32894165 -0.40482712  0.35489685]\n",
      " [-0.38796684  0.36452905  0.37626008 -0.35282229]\n",
      " [-0.24467308  0.21755359 -0.51949277  0.54661227]]\n"
     ]
    }
   ],
   "source": [
    "# DRIVER\n",
    "\n",
    "test_compute_drift()"
   ]
  }
 ],
 "metadata": {
  "kernelspec": {
   "display_name": "Python 3",
   "language": "python",
   "name": "python3"
  },
  "language_info": {
   "codemirror_mode": {
    "name": "ipython",
    "version": 3
   },
   "file_extension": ".py",
   "mimetype": "text/x-python",
   "name": "python",
   "nbconvert_exporter": "python",
   "pygments_lexer": "ipython3",
   "version": "3.6.8"
  }
 },
 "nbformat": 4,
 "nbformat_minor": 4
}
