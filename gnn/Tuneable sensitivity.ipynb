{
 "cells": [
  {
   "cell_type": "code",
   "execution_count": 1,
   "metadata": {},
   "outputs": [],
   "source": [
    "import plotly.graph_objects as go\n",
    "import plotly.express as px\n",
    "import networkx as nx\n",
    "import numpy as np\n",
    "import matplotlib.pylab as plt\n",
    "\n",
    "from viz import (build_graph_viz, \n",
    "                 build_node_trace, \n",
    "                 build_edge_trace, \n",
    "                 simplex_plot, \n",
    "                 make_axis)\n",
    "                   \n",
    "from utils import (get_edges, \n",
    "                   get_nodes, \n",
    "                   get_degree, \n",
    "                   build_all_to_all, \n",
    "                   compute_zdot,\n",
    "                   compute_drift,\n",
    "                   compute_social_term,\n",
    "                   compute_udot,\n",
    "                   split_agent_option_matrix,\n",
    "                   euler_integration,\n",
    "                   build_homogeneous_A,\n",
    "                   run_homogeneous_simulation,\n",
    "                   map_to_simplex)"
   ]
  },
  {
   "cell_type": "code",
   "execution_count": 7,
   "metadata": {},
   "outputs": [
    {
     "name": "stdout",
     "output_type": "stream",
     "text": [
      "[-0.24614221 -0.05600334  0.30214554 -0.28570168 -0.462004    0.74770568\n",
      " -0.07618546  0.39650516 -0.32031969  0.19978851 -0.28797913  0.08819062\n",
      " -0.22219436 -0.45487728  0.67707164  0.31972129  0.47988138 -0.79960267\n",
      " -0.10739051  0.05258995  0.05480056 -0.39127394  0.1837628   0.20751113\n",
      " -0.36032844 -0.44331502  0.80364346  0.37181163  0.37273531 -0.74454694\n",
      "  0.35569752  0.22459841 -0.58029593 -0.30111196 -0.10873614  0.4098481 ]\n",
      "[-2.8079414  -2.33367187 -2.81896681 -2.96762303 -2.22564914 -2.62010238\n",
      " -2.87436705 -2.82864636 -2.62838794 -2.71790528 -2.54372563 -2.82874918]\n"
     ]
    }
   ],
   "source": [
    "# hyperparameters \n",
    "dt = 1e-2\n",
    "num_agents = 12\n",
    "num_options = 3\n",
    "\n",
    "alpha = 0.2\n",
    "beta = 0.1   # Should be negative\n",
    "d = 1.\n",
    "u = 3.\n",
    "b = 0.\n",
    "\n",
    "# absolute opinion parameters \n",
    "r = 1\n",
    "R = 2 * u\n",
    "\n",
    "T_consensus = 10\n",
    "gamma_consensus = 0.2\n",
    "delta_consensus = -0.1\n",
    "\n",
    "T_dissensus = 30\n",
    "gamma_dissensus = -0.1\n",
    "delta_dissensus = 0.2\n",
    "\n",
    "A_tilde = np.ones((num_agents, num_agents)) \n",
    "# A_tilde = np.random.randint(2, size=(num_agents, num_agents))\n",
    "# Opinion matrix of agent i, opinion j\n",
    "Z = generate_random_relative_options(num_agents, num_options)\n",
    "\n",
    "# for plotting\n",
    "subsample_interval = 10"
   ]
  },
  {
   "cell_type": "code",
   "execution_count": null,
   "metadata": {},
   "outputs": [],
   "source": [
    "\n",
    "A_bar = [np.random.choice([0,1], size = [num_options, num_agents*num_options]) for i in range(num_agents)]\n",
    "# uvec = np.ones(num_agents)\n",
    "tau_u = 1.\n",
    "\n",
    "# print(np.matrix.flatten(Z))\n",
    "udot = compute_udot(u, A_bar, Z, tau_u)\n",
    "\n",
    "# print(udot)"
   ]
  },
  {
   "cell_type": "code",
   "execution_count": 2,
   "metadata": {},
   "outputs": [],
   "source": [
    "# G = build_all_to_all(10)"
   ]
  },
  {
   "cell_type": "code",
   "execution_count": 3,
   "metadata": {},
   "outputs": [],
   "source": [
    "# adjacency_matrix = nx.linalg.graphmatrix.adjacency_matrix(G)\n",
    "# print(adjacency_matrix.todense())"
   ]
  },
  {
   "cell_type": "code",
   "execution_count": 4,
   "metadata": {},
   "outputs": [],
   "source": [
    "def test_compute_drift():\n",
    "    \n",
    "    Na = 2 # number of agents\n",
    "    No = 4 # number of options\n",
    "    \n",
    "    A = np.ones((No, No, Na, Na))\n",
    "    \n",
    "    # Opinion matrix of agent i, opinion j\n",
    "    Z = np.random.rand(Na, No)\n",
    "    \n",
    "    # Drift Coefficient Matrix\n",
    "    D = np.random.rand(Na, No)\n",
    "    \n",
    "    # Bias Matrix\n",
    "    B = np.random.rand(Na, No)\n",
    "    \n",
    "    # Attention parameter\n",
    "    u = np.random.rand(Na, 1)\n",
    "        \n",
    "    F = compute_drift(D, u, Z, A, B)\n",
    "    \n",
    "    # print(F)\n",
    "    \n",
    "    Zd = compute_zdot(D, u, Z, A, B)\n",
    "    \n",
    "    # print(Zd)\n"
   ]
  },
  {
   "cell_type": "code",
   "execution_count": 5,
   "metadata": {},
   "outputs": [],
   "source": [
    "# DRIVER\n",
    "\n",
    "test_compute_drift()"
   ]
  },
  {
   "cell_type": "code",
   "execution_count": null,
   "metadata": {},
   "outputs": [],
   "source": []
  }
 ],
 "metadata": {
  "kernelspec": {
   "display_name": "Python 3",
   "language": "python",
   "name": "python3"
  },
  "language_info": {
   "codemirror_mode": {
    "name": "ipython",
    "version": 3
   },
   "file_extension": ".py",
   "mimetype": "text/x-python",
   "name": "python",
   "nbconvert_exporter": "python",
   "pygments_lexer": "ipython3",
   "version": "3.6.8"
  }
 },
 "nbformat": 4,
 "nbformat_minor": 4
}
