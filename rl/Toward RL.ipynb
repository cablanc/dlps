{
 "cells": [
  {
   "cell_type": "code",
   "execution_count": 1,
   "metadata": {},
   "outputs": [],
   "source": [
    "import torch\n",
    "import numpy as np\n",
    "import matplotlib.pylab as plt\n",
    "\n",
    "from utils import build_mlp, apply_linear_dynamics_tensor"
   ]
  },
  {
   "cell_type": "markdown",
   "metadata": {},
   "source": [
    "# Toward RL"
   ]
  },
  {
   "cell_type": "code",
   "execution_count": 2,
   "metadata": {},
   "outputs": [],
   "source": [
    "def compute_trajectory(A, B, policy, apply_linear_dynamics, x0, T):\n",
    "    x_t = [x0]\n",
    "    u_t = []\n",
    "    for t in range(T - 1):\n",
    "        x_cur = x_t[-1]\n",
    "        u_cur = policy(x_cur.squeeze(-1)).unsqueeze(-1)\n",
    "        x_next = apply_linear_dynamics(A, B, x_cur, u_cur)\n",
    "        \n",
    "        u_t.append(u_cur)\n",
    "        x_t.append(x_next)\n",
    "    \n",
    "    return x_t, u_t"
   ]
  },
  {
   "cell_type": "code",
   "execution_count": 3,
   "metadata": {},
   "outputs": [],
   "source": [
    "def compute_loss(x, u, Q, Q_f, R):\n",
    "    T = len(x)\n",
    "    \n",
    "    final_state_loss = torch.matmul(torch.transpose(x[-1], 1, 2), torch.matmul(Q_f, x[-1]))\n",
    "    state_losses = [final_state_loss] + [ torch.matmul(torch.transpose(x[i], 1, 2), torch.matmul(Q, x[i])) for i in range(1, T - 1) ]\n",
    "    mean_state_loss = torch.mean(torch.stack(state_losses))\n",
    "    \n",
    "    control_losses = [ torch.matmul(u[i], torch.matmul(R, u[i])) for i in range(T - 1) ]\n",
    "    mean_control_loss = torch.mean(torch.stack(control_losses))\n",
    "    \n",
    "    return mean_state_loss + mean_control_loss"
   ]
  },
  {
   "cell_type": "markdown",
   "metadata": {},
   "source": [
    "## Define system variables A and B; and initial conditions x0"
   ]
  },
  {
   "cell_type": "code",
   "execution_count": 4,
   "metadata": {},
   "outputs": [],
   "source": [
    "# http://www.argmin.net/2018/02/08/lqr/\n",
    "m = 1.\n",
    "A_gt = torch.Tensor([[1., 1.],\n",
    "                 [0., 1.]])\n",
    "B_gt = torch.Tensor([[0],\n",
    "                 [1./m]])\n",
    "\n",
    "dataset_size = 100\n",
    "np.random.seed(10)\n",
    "# arbitrarily chosen initial conditions\n",
    "x0 = np.random.rand(dataset_size, 2, 1)"
   ]
  },
  {
   "cell_type": "markdown",
   "metadata": {},
   "source": [
    "## Define variables and optimizer"
   ]
  },
  {
   "cell_type": "markdown",
   "metadata": {},
   "source": [
    "### cost variables"
   ]
  },
  {
   "cell_type": "code",
   "execution_count": 5,
   "metadata": {},
   "outputs": [],
   "source": [
    "Q = torch.eye(2)\n",
    "Q_f = torch.eye(2) * 1.\n",
    "R = torch.Tensor([[0.3]])"
   ]
  },
  {
   "cell_type": "markdown",
   "metadata": {},
   "source": [
    "### policy neural network"
   ]
  },
  {
   "cell_type": "code",
   "execution_count": 6,
   "metadata": {},
   "outputs": [],
   "source": [
    "indim = 2\n",
    "hidden_dim = 100\n",
    "num_hidden = 1\n",
    "outdim = 1\n",
    "\n",
    "dims = [indim] + num_hidden * [hidden_dim] + [outdim]\n",
    "\n",
    "torch.manual_seed(0)\n",
    "policy = build_mlp(dims)"
   ]
  },
  {
   "cell_type": "markdown",
   "metadata": {},
   "source": [
    "### optimizer"
   ]
  },
  {
   "cell_type": "code",
   "execution_count": 7,
   "metadata": {},
   "outputs": [],
   "source": [
    "T = 20\n",
    "num_epochs = 100\n",
    "batch_size = 10\n",
    "num_iter = int(num_epochs/batch_size)\n",
    "\n",
    "lr = 0.1\n",
    "optim = torch.optim.Adam(policy.parameters(), lr=lr)"
   ]
  },
  {
   "cell_type": "markdown",
   "metadata": {},
   "source": [
    "## Direct estimation of the policy by Adam descent"
   ]
  },
  {
   "cell_type": "code",
   "execution_count": 8,
   "metadata": {},
   "outputs": [
    {
     "data": {
      "text/plain": [
       "Sequential(\n",
       "  (0): Linear(in_features=2, out_features=100, bias=True)\n",
       "  (1): ReLU()\n",
       "  (2): Linear(in_features=100, out_features=1, bias=False)\n",
       ")"
      ]
     },
     "execution_count": 8,
     "metadata": {},
     "output_type": "execute_result"
    }
   ],
   "source": [
    "policy.train()\n",
    "\n",
    "for epoch in range(num_iter):\n",
    "    idx = np.random.permutation(dataset_size)[:batch_size]\n",
    "    \n",
    "    x_cur_batch = torch.Tensor(x0)[idx]\n",
    "    \n",
    "    x, u = compute_trajectory(A_gt, B_gt, policy, apply_linear_dynamics_tensor, x_cur_batch, T)\n",
    "    loss = compute_loss(x, u, Q, Q_f, R)\n",
    "    \n",
    "    optim.zero_grad()\n",
    "    loss.backward()\n",
    "    optim.step()\n",
    "    \n",
    "policy.eval()"
   ]
  },
  {
   "cell_type": "markdown",
   "metadata": {},
   "source": [
    "## Define LQR cost"
   ]
  },
  {
   "cell_type": "code",
   "execution_count": 9,
   "metadata": {},
   "outputs": [],
   "source": [
    "# initial condition\n",
    "x0 = torch.Tensor([[1.],\n",
    "                   [0.]])\n",
    "\n",
    "x, u = compute_trajectory(A_gt, B_gt, policy, apply_linear_dynamics_tensor, x0, T)\n",
    "# cost = compute_loss(x, u, Q, Q_f, R)\n",
    "\n",
    "x_np = torch.stack(x).squeeze(-1).data.numpy()\n",
    "u_np = torch.stack(u).squeeze(-1).data.numpy()"
   ]
  },
  {
   "cell_type": "code",
   "execution_count": 10,
   "metadata": {},
   "outputs": [],
   "source": [
    "# print(cost)"
   ]
  },
  {
   "cell_type": "code",
   "execution_count": 11,
   "metadata": {},
   "outputs": [
    {
     "data": {
      "text/plain": [
       "<matplotlib.legend.Legend at 0x7efabc571b70>"
      ]
     },
     "execution_count": 11,
     "metadata": {},
     "output_type": "execute_result"
    },
    {
     "data": {
      "image/png": "[encoded data removed]",
      "text/plain": [
       "<Figure size 720x432 with 1 Axes>"
      ]
     },
     "metadata": {
      "needs_background": "light"
     },
     "output_type": "display_data"
    }
   ],
   "source": [
    "x_coord1 = x_np[:,0]\n",
    "x_coord2 = x_np[:,1]\n",
    "\n",
    "plt.figure(figsize=[10,6])\n",
    "plt.plot(x_coord1, 'b')\n",
    "plt.plot(x_coord2, 'tab:orange')\n",
    "\n",
    "plt.legend(['x1', 'x2'])"
   ]
  },
  {
   "cell_type": "code",
   "execution_count": 12,
   "metadata": {},
   "outputs": [
    {
     "data": {
      "text/plain": [
       "<matplotlib.legend.Legend at 0x7efabc46b208>"
      ]
     },
     "execution_count": 12,
     "metadata": {},
     "output_type": "execute_result"
    },
    {
     "data": {
      "image/png": "[encoded data removed]",
      "text/plain": [
       "<Figure size 720x432 with 1 Axes>"
      ]
     },
     "metadata": {
      "needs_background": "light"
     },
     "output_type": "display_data"
    }
   ],
   "source": [
    "plt.figure(figsize=[10,6])\n",
    "plt.plot(u, 'm')\n",
    "plt.legend(['u'])"
   ]
  },
  {
   "cell_type": "code",
   "execution_count": null,
   "metadata": {},
   "outputs": [],
   "source": []
  }
 ],
 "metadata": {
  "kernelspec": {
   "display_name": "Python 3",
   "language": "python",
   "name": "python3"
  },
  "language_info": {
   "codemirror_mode": {
    "name": "ipython",
    "version": 3
   },
   "file_extension": ".py",
   "mimetype": "text/x-python",
   "name": "python",
   "nbconvert_exporter": "python",
   "pygments_lexer": "ipython3",
   "version": "3.6.8"
  }
 },
 "nbformat": 4,
 "nbformat_minor": 2
}
