{
 "cells": [
  {
   "cell_type": "code",
   "execution_count": 1,
   "metadata": {},
   "outputs": [],
   "source": [
    "import os\n",
    "import torch\n",
    "import torchvision\n",
    "\n",
    "import torchvision.transforms as transforms\n",
    "import numpy as np\n",
    "import matplotlib.pylab as plt\n",
    "\n",
    "from utils import compute_confusion_matrix, train, evaluate\n",
    "from networks import ConvolutionalNN\n",
    "from data import compute_dynamical_update, sym_euler_update, generate_dataset"
   ]
  },
  {
   "cell_type": "markdown",
   "metadata": {},
   "source": [
    "# Define hyperparameters etc."
   ]
  },
  {
   "cell_type": "code",
   "execution_count": 2,
   "metadata": {},
   "outputs": [],
   "source": [
    "# pendulum\n",
    "m = 1.\n",
    "g = 9.81\n",
    "l = 1.\n",
    "dt = 1e-2\n",
    "\n",
    "num_examples = 15000\n",
    "sequence_len = 100\n",
    "\n",
    "batch_size = 128\n",
    "learning_rate = 0.001\n",
    "num_epochs = 50\n",
    "outdim = 2\n",
    "indim = 2\n",
    "hdim = 50\n",
    "print_every = 100\n",
    "num_layers = 1"
   ]
  },
  {
   "cell_type": "markdown",
   "metadata": {},
   "source": [
    "# Dataset"
   ]
  },
  {
   "cell_type": "code",
   "execution_count": 3,
   "metadata": {},
   "outputs": [],
   "source": [
    "data = generate_dataset(num_examples, sequence_len, g, l, dt)"
   ]
  },
  {
   "cell_type": "code",
   "execution_count": 4,
   "metadata": {},
   "outputs": [
    {
     "data": {
      "text/plain": [
       "Text(0, 0.5, 'theta_dot')"
      ]
     },
     "execution_count": 4,
     "metadata": {},
     "output_type": "execute_result"
    },
    {
     "data": {
      "image/png": "[encoded data removed]",
      "text/plain": [
       "<Figure size 432x288 with 1 Axes>"
      ]
     },
     "metadata": {
      "needs_background": "light"
     },
     "output_type": "display_data"
    }
   ],
   "source": [
    "idx = np.random.randint(num_examples, size=10)\n",
    "for i in idx:\n",
    "    trajectory = data[i].T\n",
    "    plt.plot(trajectory[0], trajectory[1])\n",
    "    \n",
    "plt.xlabel('theta')\n",
    "plt.ylabel('theta_dot')"
   ]
  },
  {
   "cell_type": "code",
   "execution_count": 5,
   "metadata": {},
   "outputs": [
    {
     "name": "stdout",
     "output_type": "stream",
     "text": [
      "(15000, 100, 2)\n"
     ]
    }
   ],
   "source": [
    "print(data.shape)"
   ]
  },
  {
   "cell_type": "markdown",
   "metadata": {},
   "source": [
    "# Recurrent neural network"
   ]
  },
  {
   "cell_type": "code",
   "execution_count": 6,
   "metadata": {},
   "outputs": [],
   "source": [
    "class RecurrentNN(torch.nn.Module):\n",
    "    def __init__(self, indim, hdim, outdim, num_layers, sequence_len):\n",
    "        super(RecurrentNN, self).__init__()\n",
    "        # print(indim, hdim, outdim, num_layers, sequence_len)\n",
    "        self.indim = indim\n",
    "        self.hdim = hdim\n",
    "        self.outdim = outdim\n",
    "        self.num_layers = num_layers\n",
    "        self.sequence_len = sequence_len\n",
    "        \n",
    "        self.rnn = torch.nn.LSTM(self.indim, self.hdim, num_layers=self.num_layers, batch_first=True)\n",
    "        self.fc = torch.nn.Linear(self.hdim, self.outdim)\n",
    "    \n",
    "    def forward(self, data):\n",
    "        batch_size, sequence_len, indim = data.shape\n",
    "        # print(batch_size, sequence_len, indim)\n",
    "        \n",
    "        h0 = torch.zeros(self.num_layers, batch_size, self.hdim)\n",
    "        c0 = torch.zeros(self.num_layers, batch_size, self.hdim)\n",
    "        \n",
    "        # output : the output at each unrolling with shape (batch_size, sequence_len, hidden_dim)\n",
    "        # hidden : the output at each layer of the final unrolling with shape (batch_size, num_layers, hidden_dim)\n",
    "        outputs, _ = self.rnn(data, (h0, c0))\n",
    "        final_output = outputs[:, -1, :].unsqueeze(1)\n",
    "        # print(final_output.shape)\n",
    "        \n",
    "        prediction = self.fc(final_output)\n",
    "            \n",
    "        return prediction"
   ]
  },
  {
   "cell_type": "code",
   "execution_count": 7,
   "metadata": {},
   "outputs": [],
   "source": [
    "rnn = RecurrentNN(indim, hdim, outdim, num_layers, sequence_len)"
   ]
  },
  {
   "cell_type": "code",
   "execution_count": 8,
   "metadata": {},
   "outputs": [
    {
     "name": "stdout",
     "output_type": "stream",
     "text": [
      "The number of parameters in the network is: 67842\n"
     ]
    }
   ],
   "source": [
    "params = rnn.parameters()\n",
    "num_params = np.sum([np.prod(p.shape) for p in params])\n",
    "print('The number of parameters in the network is: {}'.format(num_params))"
   ]
  },
  {
   "cell_type": "code",
   "execution_count": 9,
   "metadata": {},
   "outputs": [],
   "source": [
    "loss_fcn = torch.nn.L1Loss()\n",
    "optimizer = torch.optim.Adam(rnn.parameters(), lr=learning_rate)"
   ]
  },
  {
   "cell_type": "code",
   "execution_count": 10,
   "metadata": {},
   "outputs": [],
   "source": [
    "# create dataloader\n",
    "train_size = 10000\n",
    "x_train_tensor = torch.Tensor(data[:train_size, :-1, :])\n",
    "y_train_tensor = torch.Tensor(data[:train_size, -1, :]).unsqueeze(1)\n",
    "train_dataset = torch.utils.data.TensorDataset(x_train_tensor, y_train_tensor)\n",
    "trainloader = torch.utils.data.DataLoader(train_dataset, batch_size=batch_size, shuffle=False, drop_last=True)\n",
    "\n",
    "x_test_tensor = torch.Tensor(data[train_size:, :-1, :])\n",
    "y_test_tensor = torch.Tensor(data[train_size:, -1, :]).unsqueeze(1)\n",
    "test_dataset = torch.utils.data.TensorDataset(x_test_tensor, y_test_tensor)\n",
    "testloader = torch.utils.data.DataLoader(test_dataset, batch_size=batch_size, shuffle=False, drop_last=True)"
   ]
  },
  {
   "cell_type": "code",
   "execution_count": 11,
   "metadata": {
    "scrolled": true
   },
   "outputs": [
    {
     "name": "stdout",
     "output_type": "stream",
     "text": [
      "Epoch: 0, Iteration: 0, Loss: 1.60, Acc: 0.00\n",
      "Epoch: 1, Iteration: 0, Loss: 0.08, Acc: 0.00\n",
      "Epoch: 2, Iteration: 0, Loss: 0.03, Acc: 0.00\n",
      "Epoch: 3, Iteration: 0, Loss: 0.04, Acc: 0.00\n",
      "Epoch: 4, Iteration: 0, Loss: 0.02, Acc: 0.00\n",
      "Epoch: 5, Iteration: 0, Loss: 0.02, Acc: 0.00\n",
      "Epoch: 6, Iteration: 0, Loss: 0.02, Acc: 0.00\n",
      "Epoch: 7, Iteration: 0, Loss: 0.02, Acc: 0.00\n",
      "Epoch: 8, Iteration: 0, Loss: 0.03, Acc: 0.00\n",
      "Epoch: 9, Iteration: 0, Loss: 0.01, Acc: 0.00\n",
      "Epoch: 10, Iteration: 0, Loss: 0.02, Acc: 0.00\n",
      "Epoch: 11, Iteration: 0, Loss: 0.01, Acc: 0.00\n",
      "Epoch: 12, Iteration: 0, Loss: 0.02, Acc: 0.00\n",
      "Epoch: 13, Iteration: 0, Loss: 0.01, Acc: 0.00\n",
      "Epoch: 14, Iteration: 0, Loss: 0.02, Acc: 0.00\n",
      "Epoch: 15, Iteration: 0, Loss: 0.02, Acc: 0.00\n",
      "Epoch: 16, Iteration: 0, Loss: 0.01, Acc: 0.00\n",
      "Epoch: 17, Iteration: 0, Loss: 0.01, Acc: 0.00\n",
      "Epoch: 18, Iteration: 0, Loss: 0.01, Acc: 0.00\n",
      "Epoch: 19, Iteration: 0, Loss: 0.01, Acc: 0.00\n",
      "Epoch: 20, Iteration: 0, Loss: 0.01, Acc: 0.00\n",
      "Epoch: 21, Iteration: 0, Loss: 0.01, Acc: 0.00\n",
      "Epoch: 22, Iteration: 0, Loss: 0.01, Acc: 0.00\n",
      "Epoch: 23, Iteration: 0, Loss: 0.02, Acc: 0.00\n",
      "Epoch: 24, Iteration: 0, Loss: 0.01, Acc: 0.00\n",
      "Epoch: 25, Iteration: 0, Loss: 0.01, Acc: 0.00\n",
      "Epoch: 26, Iteration: 0, Loss: 0.01, Acc: 0.00\n",
      "Epoch: 27, Iteration: 0, Loss: 0.01, Acc: 0.00\n",
      "Epoch: 28, Iteration: 0, Loss: 0.01, Acc: 0.00\n",
      "Epoch: 29, Iteration: 0, Loss: 0.01, Acc: 0.00\n",
      "Epoch: 30, Iteration: 0, Loss: 0.01, Acc: 0.00\n",
      "Epoch: 31, Iteration: 0, Loss: 0.02, Acc: 0.00\n",
      "Epoch: 32, Iteration: 0, Loss: 0.01, Acc: 0.00\n",
      "Epoch: 33, Iteration: 0, Loss: 0.01, Acc: 0.00\n",
      "Epoch: 34, Iteration: 0, Loss: 0.01, Acc: 0.00\n",
      "Epoch: 35, Iteration: 0, Loss: 0.01, Acc: 0.00\n",
      "Epoch: 36, Iteration: 0, Loss: 0.01, Acc: 0.00\n",
      "Epoch: 37, Iteration: 0, Loss: 0.01, Acc: 0.00\n",
      "Epoch: 38, Iteration: 0, Loss: 0.01, Acc: 0.00\n",
      "Epoch: 39, Iteration: 0, Loss: 0.01, Acc: 0.00\n",
      "Epoch: 40, Iteration: 0, Loss: 0.01, Acc: 0.00\n",
      "Epoch: 41, Iteration: 0, Loss: 0.01, Acc: 0.00\n",
      "Epoch: 42, Iteration: 0, Loss: 0.01, Acc: 0.00\n",
      "Epoch: 43, Iteration: 0, Loss: 0.01, Acc: 0.00\n",
      "Epoch: 44, Iteration: 0, Loss: 0.01, Acc: 0.00\n",
      "Epoch: 45, Iteration: 0, Loss: 0.01, Acc: 0.00\n",
      "Epoch: 46, Iteration: 0, Loss: 0.01, Acc: 0.00\n",
      "Epoch: 47, Iteration: 0, Loss: 0.01, Acc: 0.00\n",
      "Epoch: 48, Iteration: 0, Loss: 0.01, Acc: 0.00\n",
      "Epoch: 49, Iteration: 0, Loss: 0.01, Acc: 0.00\n"
     ]
    }
   ],
   "source": [
    "# make weights trainable\n",
    "rnn.train()\n",
    "\n",
    "# run training loop\n",
    "training_loss = train(num_epochs, print_every, trainloader, loss_fcn, optimizer, rnn)"
   ]
  },
  {
   "cell_type": "code",
   "execution_count": 12,
   "metadata": {},
   "outputs": [
    {
     "data": {
      "text/plain": [
       "Text(0, 0.5, 'L1 Loss')"
      ]
     },
     "execution_count": 12,
     "metadata": {},
     "output_type": "execute_result"
    },
    {
     "data": {
      "image/png": "[encoded data removed]",
      "text/plain": [
       "<Figure size 432x288 with 1 Axes>"
      ]
     },
     "metadata": {
      "needs_background": "light"
     },
     "output_type": "display_data"
    }
   ],
   "source": [
    "# plot training loss\n",
    "plt.plot(training_loss)\n",
    "plt.title('Training loss')\n",
    "plt.xlabel('Iteration')\n",
    "plt.ylabel('L1 Loss')"
   ]
  },
  {
   "cell_type": "code",
   "execution_count": 13,
   "metadata": {},
   "outputs": [
    {
     "data": {
      "text/plain": [
       "RecurrentNN(\n",
       "  (rnn): LSTM(2, 128, batch_first=True)\n",
       "  (fc): Linear(in_features=128, out_features=2, bias=True)\n",
       ")"
      ]
     },
     "execution_count": 13,
     "metadata": {},
     "output_type": "execute_result"
    }
   ],
   "source": [
    "rnn.eval()\n",
    "\n",
    "# average_accuracy, average_loss, prediction_label_data = evaluate(testloader, loss_fcn, rnn)\n",
    "    \n",
    "# print('Avg Loss: {loss:.2f}, Avg Acc: {acc:.2f}'.format(loss=average_loss, acc=average_accuracy))"
   ]
  },
  {
   "cell_type": "code",
   "execution_count": 14,
   "metadata": {
    "scrolled": true
   },
   "outputs": [],
   "source": [
    "example_num = 0\n",
    "x0 = test_dataset[example_num][0][0, :].reshape(1, 1, -1)\n",
    "prediction = [x0]\n",
    "hidden = (torch.zeros(rnn.num_layers, 1, rnn.hdim), torch.zeros(rnn.num_layers, 1, rnn.hdim))\n",
    "for t in range(sequence_len - 1):\n",
    "    output, hidden = rnn.rnn(prediction[-1], hidden)\n",
    "    pred = rnn.fc(output)\n",
    "    # print(x0.shape, output.shape)\n",
    "    prediction.append(pred)"
   ]
  },
  {
   "cell_type": "code",
   "execution_count": 15,
   "metadata": {},
   "outputs": [],
   "source": [
    "prediction_tensor = torch.cat(prediction).squeeze(1)"
   ]
  },
  {
   "cell_type": "code",
   "execution_count": 16,
   "metadata": {},
   "outputs": [],
   "source": [
    "prediction_np = prediction_tensor.data.numpy()"
   ]
  },
  {
   "cell_type": "code",
   "execution_count": 17,
   "metadata": {},
   "outputs": [
    {
     "name": "stdout",
     "output_type": "stream",
     "text": [
      "(100, 2)\n"
     ]
    }
   ],
   "source": [
    "print(prediction_np.shape)"
   ]
  },
  {
   "cell_type": "code",
   "execution_count": 18,
   "metadata": {},
   "outputs": [
    {
     "data": {
      "text/plain": [
       "[<matplotlib.lines.Line2D at 0x7f325c0ee7f0>]"
      ]
     },
     "execution_count": 18,
     "metadata": {},
     "output_type": "execute_result"
    },
    {
     "data": {
      "image/png": "[encoded data removed]",
      "text/plain": [
       "<Figure size 432x288 with 1 Axes>"
      ]
     },
     "metadata": {
      "needs_background": "light"
     },
     "output_type": "display_data"
    }
   ],
   "source": [
    "plt.plot(data[0][:,0], data[0][:,1])\n",
    "plt.plot(prediction_np[:,0], prediction_np[:,1])"
   ]
  },
  {
   "cell_type": "code",
   "execution_count": 21,
   "metadata": {},
   "outputs": [
    {
     "name": "stdout",
     "output_type": "stream",
     "text": [
      "torch.Size([1, 99, 2])\n"
     ]
    }
   ],
   "source": [
    "hidden = (torch.zeros(rnn.num_layers, 1, rnn.hdim), torch.zeros(rnn.num_layers, 1, rnn.hdim))\n",
    "x = test_dataset[0][0].unsqueeze(0)\n",
    "output, _ = rnn.rnn(x, hidden)\n",
    "output = rnn.fc(output)\n",
    "print(output.shape)"
   ]
  },
  {
   "cell_type": "code",
   "execution_count": 22,
   "metadata": {},
   "outputs": [
    {
     "data": {
      "text/plain": [
       "[<matplotlib.lines.Line2D at 0x7f3263067710>]"
      ]
     },
     "execution_count": 22,
     "metadata": {},
     "output_type": "execute_result"
    },
    {
     "data": {
      "image/png": "[encoded data removed]",
      "text/plain": [
       "<Figure size 432x288 with 1 Axes>"
      ]
     },
     "metadata": {
      "needs_background": "light"
     },
     "output_type": "display_data"
    }
   ],
   "source": [
    "output_np = output.squeeze(0).data.numpy()\n",
    "x_np = x.squeeze(0).data.numpy()\n",
    "plt.plot(output_np[:, 0], output_np[:, 1])\n",
    "plt.plot(x_np[:, 0], x_np[:, 1])"
   ]
  },
  {
   "cell_type": "code",
   "execution_count": 23,
   "metadata": {},
   "outputs": [
    {
     "data": {
      "text/plain": [
       "(array([2.73105   , 0.40922448], dtype=float32),\n",
       " array([0.7398465 , 0.48755336], dtype=float32))"
      ]
     },
     "execution_count": 23,
     "metadata": {},
     "output_type": "execute_result"
    }
   ],
   "source": [
    "x_np[0], output_np[0]"
   ]
  },
  {
   "cell_type": "code",
   "execution_count": null,
   "metadata": {},
   "outputs": [],
   "source": [
    "# https://colah.github.io/posts/2015-08-Understanding-LSTMs/\n",
    "# https://distill.pub/2016/augmented-rnns/\n",
    "# Theory of gating in recurrent neural networks, Krishnamurthy et al. - https://arxiv.org/abs/2007.14823"
   ]
  }
 ],
 "metadata": {
  "kernelspec": {
   "display_name": "Python 3",
   "language": "python",
   "name": "python3"
  },
  "language_info": {
   "codemirror_mode": {
    "name": "ipython",
    "version": 3
   },
   "file_extension": ".py",
   "mimetype": "text/x-python",
   "name": "python",
   "nbconvert_exporter": "python",
   "pygments_lexer": "ipython3",
   "version": "3.6.8"
  }
 },
 "nbformat": 4,
 "nbformat_minor": 2
}
