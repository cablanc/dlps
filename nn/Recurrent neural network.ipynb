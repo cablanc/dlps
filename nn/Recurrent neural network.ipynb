{
 "cells": [
  {
   "cell_type": "code",
   "execution_count": 7,
   "metadata": {},
   "outputs": [],
   "source": [
    "import os\n",
    "import torch\n",
    "import torchvision\n",
    "\n",
    "import torchvision.transforms as transforms\n",
    "import numpy as np\n",
    "import matplotlib.pylab as plt\n",
    "\n",
    "from utils import compute_confusion_matrix, train, evaluate\n",
    "from networks import ConvolutionalNN"
   ]
  },
  {
   "cell_type": "markdown",
   "metadata": {},
   "source": [
    "# Define hyperparameters etc."
   ]
  },
  {
   "cell_type": "code",
   "execution_count": 79,
   "metadata": {},
   "outputs": [],
   "source": [
    "# pendulum\n",
    "m = 1.\n",
    "g = 9.81\n",
    "l = 1.\n",
    "dt = 1e-2\n",
    "\n",
    "num_examples = 1000\n",
    "sequence_len = 100\n",
    "\n",
    "batch_size = 32\n",
    "learning_rate = 0.001\n",
    "num_epochs = 1\n",
    "filter_shapes = [(1, 8, 5), (8, 16, 5), (16, 64, 5), (64, 16, 5), (16, 8, 5)]\n",
    "outdim = 10\n",
    "print_every = 100"
   ]
  },
  {
   "cell_type": "markdown",
   "metadata": {},
   "source": [
    "# Dataset"
   ]
  },
  {
   "cell_type": "code",
   "execution_count": 100,
   "metadata": {},
   "outputs": [],
   "source": [
    "def compute_dynamical_update(state, g, l):\n",
    "    '''\n",
    "    \n",
    "    Arguments:\n",
    "    ---------\n",
    "    \n",
    "    Returns:\n",
    "    -------\n",
    "    '''\n",
    "    theta, d_theta = np.split(state, indices_or_sections=2, axis=-1)\n",
    "    d2_theta = -g/l * np.sin(theta)\n",
    "    # print(np.sin(theta))\n",
    "    # print(d_theta.shape, d2_theta.shape)\n",
    "    \n",
    "    return np.hstack((d_theta, d2_theta))\n",
    "\n",
    "\n",
    "def sym_euler_update(state, d_state, dt):\n",
    "    '''\n",
    "    '''\n",
    "    theta, d_theta = np.split(state, indices_or_sections=2, axis=-1)\n",
    "    _, d2_theta = np.split(d_state, indices_or_sections=2, axis=-1)\n",
    "\n",
    "    d_theta_next = d_theta + dt * d2_theta\n",
    "    theta_next = theta + dt * d_theta\n",
    "\n",
    "    next_state = np.hstack((theta_next, d_theta_next))\n",
    "    \n",
    "    return next_state\n",
    "\n",
    "\n",
    "def normalize_state(state):\n",
    "    '''\n",
    "    '''\n",
    "    theta, d_theta = np.split(state, indices_or_sections=2, axis=-1)\n",
    "    pass\n",
    "\n",
    "def generate_dataset(num_examples, sequence_len, g, l, dt):\n",
    "    '''\n",
    "    '''\n",
    "    theta_0 = np.random.uniform(-np.pi, np.pi, size=(num_examples, 1))\n",
    "    d_theta_0 = np.random.uniform(-1., 1., size=(num_examples, 1))\n",
    "    # print(theta_0.shape, d_theta_0.shape)\n",
    "    init_cond = np.hstack((theta_0, d_theta_0))\n",
    "    # print(init_cond.shape)\n",
    "    \n",
    "    data = [init_cond]\n",
    "    for i in range(sequence_len - 1):\n",
    "        cur_state = data[-1]\n",
    "        dynamical_update = compute_dynamical_update(cur_state, g, l)\n",
    "        next_state = sym_euler_update(cur_state, dynamical_update, dt)\n",
    "        data.append(next_state)\n",
    "    \n",
    "    data = np.asarray(data) # shape - sequence_len x num_examples x state_dim\n",
    "    new_idx_order = [1, 0, 2]\n",
    "    data = np.transpose(data, new_idx_order) # shape - num_examples x sequence_len x state_dim\n",
    "    \n",
    "    return data"
   ]
  },
  {
   "cell_type": "code",
   "execution_count": 101,
   "metadata": {},
   "outputs": [],
   "source": [
    "dataset = generate_dataset(num_examples, sequence_len, g, l, dt)"
   ]
  },
  {
   "cell_type": "code",
   "execution_count": 102,
   "metadata": {},
   "outputs": [
    {
     "data": {
      "text/plain": [
       "Text(0, 0.5, 'theta_dot')"
      ]
     },
     "execution_count": 102,
     "metadata": {},
     "output_type": "execute_result"
    },
    {
     "data": {
      "image/png": "[encoded data removed]",
      "text/plain": [
       "<Figure size 432x288 with 1 Axes>"
      ]
     },
     "metadata": {
      "needs_background": "light"
     },
     "output_type": "display_data"
    }
   ],
   "source": [
    "dataset.shape\n",
    "idx = np.random.randint(num_examples, size=10)\n",
    "for i in idx:\n",
    "    trajectory = dataset[i].T\n",
    "    plt.plot(trajectory[0], trajectory[1])\n",
    "    \n",
    "plt.xlabel('theta')\n",
    "plt.ylabel('theta_dot')"
   ]
  },
  {
   "cell_type": "markdown",
   "metadata": {},
   "source": [
    "# Recurrent neural network"
   ]
  },
  {
   "cell_type": "code",
   "execution_count": null,
   "metadata": {},
   "outputs": [],
   "source": [
    "class RecurrentNN(torch.nn.Module):\n",
    "    def __init__(self, indim, hdim, outdim, sequence_len):\n",
    "        self.indim = indim\n",
    "        self.hdim = hdim\n",
    "        self.outdim = outdim\n",
    "        self.sequence_len = sequence_len\n",
    "        \n",
    "        self.W_h = torch.nn.Linear(indim, hdim)\n",
    "        self.U_h = torch.nn.Linear(hdim, hdim)\n",
    "        self.W_y = torch.nn.Linear(hdim, outdim)\n",
    "        \n",
    "        self.RNN = RecurrentCell(W_h, U_h, W_y)\n",
    "            \n",
    "    \n",
    "    def forward(self, x):\n",
    "        batch_size, dim = x.shape\n",
    "        init_hidden = torch.zeros(batch_size, self.hdim)\n",
    "        \n",
    "        hidden = [init_hidden]\n",
    "        outputs = [torch.zeros_like(x)]\n",
    "        for t in range(self.sequence_len):\n",
    "            out, h = self.RNN(x[:, t, :], hidden[-1])\n",
    "            hidden.append(h)\n",
    "            outputs.append(out)\n",
    "            \n",
    "        return hidden, outputs\n",
    "    \n",
    "    \n",
    "class RecurrentCell(torch.nn.Module):\n",
    "    def __init__(self, W_h, U_h, W_y):\n",
    "        self.W_h = W_h\n",
    "        self.U_h = U_h\n",
    "        self.W_y = W_y\n",
    "        \n",
    "    def forward(self, x_cur, h_cur):\n",
    "        '''\n",
    "        h_t = sigma_h( W_h x_t + U_h h_{t-1} + b_h ) \n",
    "        y_t = sigma_y( W_y h_t + b_y )\n",
    "        '''\n",
    "        \n",
    "        # each linear has a bias\n",
    "        h_next = torch.sigma(torch.dot(self.W_h, x_cur) + torch.dot(self.U_h, h_cur))\n",
    "        x_hat_next = torch.sigma(torch.dot(self.W_y, h_cur))\n",
    "        \n",
    "        return x_hat_next, h_next\n",
    "        "
   ]
  },
  {
   "cell_type": "code",
   "execution_count": null,
   "metadata": {},
   "outputs": [],
   "source": [
    "convnet = ConvolutionalNN(filter_shapes, outdim)"
   ]
  },
  {
   "cell_type": "code",
   "execution_count": null,
   "metadata": {},
   "outputs": [],
   "source": [
    "params = convnet.parameters()\n",
    "num_params = np.sum([np.prod(p.shape) for p in params])\n",
    "print('The number of parameters in the network is: {}'.format(num_params))"
   ]
  },
  {
   "cell_type": "code",
   "execution_count": null,
   "metadata": {},
   "outputs": [],
   "source": [
    "loss_fcn = torch.nn.CrossEntropyLoss()\n",
    "optimizer = torch.optim.Adam(convnet.parameters(), lr=learning_rate)"
   ]
  },
  {
   "cell_type": "code",
   "execution_count": null,
   "metadata": {},
   "outputs": [],
   "source": [
    "# create dataloader\n",
    "trainloader = torch.utils.data.DataLoader(emnist_traindata, batch_size=batch_size, shuffle=True, drop_last=True)\n",
    "testloader = torch.utils.data.DataLoader(emnist_testdata, batch_size=batch_size, shuffle=True, drop_last=True)"
   ]
  },
  {
   "cell_type": "code",
   "execution_count": null,
   "metadata": {},
   "outputs": [],
   "source": [
    "# make weights trainable\n",
    "convnet.train()\n",
    "\n",
    "# run training loop\n",
    "training_loss = train(num_epochs, print_every, trainloader, loss_fcn, optimizer, convnet)"
   ]
  },
  {
   "cell_type": "code",
   "execution_count": null,
   "metadata": {},
   "outputs": [],
   "source": [
    "# plot training loss\n",
    "plt.plot(training_loss)\n",
    "plt.title('Training loss')\n",
    "plt.xlabel('Iteration')\n",
    "plt.ylabel('Cross Entropy Loss')"
   ]
  },
  {
   "cell_type": "code",
   "execution_count": null,
   "metadata": {},
   "outputs": [],
   "source": [
    "convnet.eval()\n",
    "\n",
    "average_accuracy, average_loss, prediction_label_data = evaluate(testloader, loss_fcn, convnet)\n",
    "    \n",
    "print('Avg Loss: {loss:.2f}, Avg Acc: {acc:.2f}'.format(loss=average_loss, acc=average_accuracy))"
   ]
  },
  {
   "cell_type": "code",
   "execution_count": null,
   "metadata": {},
   "outputs": [],
   "source": [
    "confusion_matrix, mistakes = compute_confusion_matrix(prediction_label_data)\n",
    "# get image with wrong prediction\n",
    "mistake_idx = np.random.randint(len(mistakes))\n",
    "mistake_pred, mistake_label, mistake_data = mistakes[mistake_idx]\n",
    "mistake_img = mistake_data.squeeze().T\n",
    "\n",
    "plt.subplot(121)\n",
    "plt.imshow(np.log(confusion_matrix))\n",
    "plt.title('Log Confusion matrix')\n",
    "plt.xlabel('label')\n",
    "plt.ylabel('prediction')\n",
    "\n",
    "plt.subplot(122)\n",
    "plt.imshow(mistake_img)\n",
    "plt.title('Label: {label}, Prediction {pred}'.format(label=mistake_label, pred=mistake_pred))"
   ]
  },
  {
   "cell_type": "code",
   "execution_count": null,
   "metadata": {},
   "outputs": [],
   "source": []
  }
 ],
 "metadata": {
  "kernelspec": {
   "display_name": "Python 3",
   "language": "python",
   "name": "python3"
  },
  "language_info": {
   "codemirror_mode": {
    "name": "ipython",
    "version": 3
   },
   "file_extension": ".py",
   "mimetype": "text/x-python",
   "name": "python",
   "nbconvert_exporter": "python",
   "pygments_lexer": "ipython3",
   "version": "3.6.8"
  }
 },
 "nbformat": 4,
 "nbformat_minor": 2
}
