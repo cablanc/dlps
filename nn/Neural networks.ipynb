{
 "cells": [
  {
   "cell_type": "code",
   "execution_count": 1,
   "metadata": {},
   "outputs": [],
   "source": [
    "import os\n",
    "import torch\n",
    "import torchvision\n",
    "\n",
    "import torchvision.transforms as transforms\n",
    "import numpy as np\n",
    "import matplotlib.pylab as plt\n",
    "\n",
    "from utils import FullyConnectedNN, compute_confusion_matrix"
   ]
  },
  {
   "cell_type": "markdown",
   "metadata": {},
   "source": [
    "# Define hyperparameters etc."
   ]
  },
  {
   "cell_type": "code",
   "execution_count": 2,
   "metadata": {},
   "outputs": [],
   "source": [
    "datadir = '../datasets'\n",
    "batch_size = 32\n",
    "learning_rate = 0.001\n",
    "num_epochs = 2\n",
    "indim = 784\n",
    "outdim = 10\n",
    "hdim = 100\n",
    "num_hidden = 2\n",
    "print_every = 100"
   ]
  },
  {
   "cell_type": "markdown",
   "metadata": {},
   "source": [
    "# Fully-connected neural network"
   ]
  },
  {
   "cell_type": "code",
   "execution_count": 3,
   "metadata": {},
   "outputs": [],
   "source": [
    "fcnet = FullyConnectedNN(indim, outdim, hdim, num_hidden)"
   ]
  },
  {
   "cell_type": "code",
   "execution_count": 4,
   "metadata": {},
   "outputs": [],
   "source": [
    "loss_fcn = torch.nn.CrossEntropyLoss()\n",
    "optimizer = torch.optim.Adam(fcnet.parameters(), lr=learning_rate)"
   ]
  },
  {
   "cell_type": "code",
   "execution_count": 5,
   "metadata": {},
   "outputs": [
    {
     "name": "stdout",
     "output_type": "stream",
     "text": [
      "Training dataset has 60000, test dataset has 10000\n"
     ]
    }
   ],
   "source": [
    "# define transform to map data from a PIL.Image data type\n",
    "# to a Tensor which is what pytorch uses\n",
    "transform = transforms.Compose([transforms.ToTensor(), transforms.Normalize(0.5, 0.5)])\n",
    "\n",
    "# (down)load training and testing datasets\n",
    "emnist_traindata = torchvision.datasets.EMNIST(datadir, split='mnist', download=True, transform=transform)\n",
    "emnist_testdata = torchvision.datasets.EMNIST(datadir, split='mnist', train=False, download=True, transform=transform)\n",
    "\n",
    "train_num_examples, height, width = emnist_traindata.data.shape\n",
    "test_num_examples, _, _ = emnist_testdata.data.shape\n",
    "\n",
    "print('Training dataset has {train_num_examples}, test dataset has {test_num_examples}'.format(train_num_examples=train_num_examples, test_num_examples=test_num_examples))"
   ]
  },
  {
   "cell_type": "code",
   "execution_count": 6,
   "metadata": {},
   "outputs": [],
   "source": [
    "# create dataloader\n",
    "trainloader = torch.utils.data.DataLoader(emnist_traindata, batch_size=batch_size, shuffle=True, drop_last=True)\n",
    "testloader = torch.utils.data.DataLoader(emnist_testdata, batch_size=batch_size, shuffle=True, drop_last=True)"
   ]
  },
  {
   "cell_type": "code",
   "execution_count": 7,
   "metadata": {
    "scrolled": true
   },
   "outputs": [
    {
     "name": "stdout",
     "output_type": "stream",
     "text": [
      "Epoch: 0, Iteration: 0, Loss: 2.31, Acc: 0.16\n",
      "Epoch: 0, Iteration: 100, Loss: 0.40, Acc: 0.84\n",
      "Epoch: 0, Iteration: 200, Loss: 0.33, Acc: 0.84\n",
      "Epoch: 0, Iteration: 300, Loss: 0.20, Acc: 0.94\n",
      "Epoch: 0, Iteration: 400, Loss: 0.19, Acc: 0.91\n",
      "Epoch: 0, Iteration: 500, Loss: 0.22, Acc: 0.91\n",
      "Epoch: 0, Iteration: 600, Loss: 0.10, Acc: 0.94\n",
      "Epoch: 0, Iteration: 700, Loss: 0.31, Acc: 0.91\n",
      "Epoch: 0, Iteration: 800, Loss: 0.19, Acc: 0.97\n",
      "Epoch: 0, Iteration: 900, Loss: 0.12, Acc: 0.97\n",
      "Epoch: 0, Iteration: 1000, Loss: 0.04, Acc: 1.00\n",
      "Epoch: 0, Iteration: 1100, Loss: 0.35, Acc: 0.88\n",
      "Epoch: 0, Iteration: 1200, Loss: 0.18, Acc: 0.97\n",
      "Epoch: 0, Iteration: 1300, Loss: 0.03, Acc: 1.00\n",
      "Epoch: 0, Iteration: 1400, Loss: 0.02, Acc: 1.00\n",
      "Epoch: 0, Iteration: 1500, Loss: 0.23, Acc: 0.91\n",
      "Epoch: 0, Iteration: 1600, Loss: 0.10, Acc: 0.97\n",
      "Epoch: 0, Iteration: 1700, Loss: 0.04, Acc: 1.00\n",
      "Epoch: 0, Iteration: 1800, Loss: 0.17, Acc: 0.91\n",
      "Epoch: 1, Iteration: 0, Loss: 0.04, Acc: 1.00\n",
      "Epoch: 1, Iteration: 100, Loss: 0.07, Acc: 1.00\n",
      "Epoch: 1, Iteration: 200, Loss: 0.13, Acc: 0.97\n",
      "Epoch: 1, Iteration: 300, Loss: 0.01, Acc: 1.00\n",
      "Epoch: 1, Iteration: 400, Loss: 0.13, Acc: 0.97\n",
      "Epoch: 1, Iteration: 500, Loss: 0.33, Acc: 0.91\n",
      "Epoch: 1, Iteration: 600, Loss: 0.07, Acc: 0.97\n",
      "Epoch: 1, Iteration: 700, Loss: 0.20, Acc: 0.91\n",
      "Epoch: 1, Iteration: 800, Loss: 0.11, Acc: 0.97\n",
      "Epoch: 1, Iteration: 900, Loss: 0.03, Acc: 0.97\n",
      "Epoch: 1, Iteration: 1000, Loss: 0.13, Acc: 0.97\n",
      "Epoch: 1, Iteration: 1100, Loss: 0.06, Acc: 1.00\n",
      "Epoch: 1, Iteration: 1200, Loss: 0.16, Acc: 0.94\n",
      "Epoch: 1, Iteration: 1300, Loss: 0.12, Acc: 0.94\n",
      "Epoch: 1, Iteration: 1400, Loss: 0.05, Acc: 0.97\n",
      "Epoch: 1, Iteration: 1500, Loss: 0.02, Acc: 1.00\n",
      "Epoch: 1, Iteration: 1600, Loss: 0.15, Acc: 0.97\n",
      "Epoch: 1, Iteration: 1700, Loss: 0.06, Acc: 0.97\n",
      "Epoch: 1, Iteration: 1800, Loss: 0.16, Acc: 0.97\n"
     ]
    }
   ],
   "source": [
    "# make weights trainable\n",
    "fcnet.train()\n",
    "\n",
    "# create training loop\n",
    "training_loss = []\n",
    "for epoch in range(num_epochs):\n",
    "    for iteration, sample in enumerate(trainloader):\n",
    "        data, labels = sample\n",
    "        num_examples = data.shape[0]\n",
    "        \n",
    "        # pass sample through fully-connected net\n",
    "        output = fcnet(data.reshape(-1, height*width))\n",
    "        \n",
    "        # compute loss\n",
    "        loss = loss_fcn(output, labels)\n",
    "        \n",
    "        # optimize\n",
    "        optimizer.zero_grad()\n",
    "        loss.backward()\n",
    "        optimizer.step()\n",
    "        \n",
    "        # compute accuracy\n",
    "        _, prediction = torch.max(output.data, 1)\n",
    "        batch_accuracy = (prediction == labels).sum().item() / num_examples\n",
    "        \n",
    "        batch_loss = loss.item()\n",
    "        \n",
    "        if iteration % print_every == 0:\n",
    "            print('Epoch: {epoch}, Iteration: {iteration}, Loss: {loss:.2f}, Acc: {acc:.2f}'.format(epoch=epoch, iteration=iteration, loss=batch_loss, acc=batch_accuracy))\n",
    "            \n",
    "        training_loss.append(batch_loss)"
   ]
  },
  {
   "cell_type": "code",
   "execution_count": 8,
   "metadata": {},
   "outputs": [
    {
     "data": {
      "text/plain": [
       "Text(0, 0.5, 'Cross Entropy Loss')"
      ]
     },
     "execution_count": 8,
     "metadata": {},
     "output_type": "execute_result"
    },
    {
     "data": {
      "image/png": "[encoded data removed]",
      "text/plain": [
       "<Figure size 432x288 with 1 Axes>"
      ]
     },
     "metadata": {
      "needs_background": "light"
     },
     "output_type": "display_data"
    }
   ],
   "source": [
    "# plot training loss\n",
    "plt.plot(training_loss)\n",
    "plt.title('Training loss')\n",
    "plt.xlabel('Iteration')\n",
    "plt.ylabel('Cross Entropy Loss')"
   ]
  },
  {
   "cell_type": "code",
   "execution_count": 9,
   "metadata": {},
   "outputs": [
    {
     "name": "stdout",
     "output_type": "stream",
     "text": [
      "Avg Loss: 0.10, Avg Acc: 0.97\n"
     ]
    }
   ],
   "source": [
    "# make weights not trainable\n",
    "fcnet.eval()\n",
    "\n",
    "# compute average test loss and accuracy\n",
    "prediction_label_data = []\n",
    "total_loss = 0\n",
    "total_correct = 0\n",
    "total_examples = 0\n",
    "for iteration, sample in enumerate(testloader):\n",
    "    data, labels = sample\n",
    "    num_examples = data.shape[0]\n",
    "\n",
    "    # pass sample through fully-connected net\n",
    "    output = fcnet(data.reshape(-1, height*width))\n",
    "\n",
    "    # compute loss\n",
    "    loss = loss_fcn(output, labels)\n",
    "        \n",
    "    # compute accuracy\n",
    "    _, batch_prediction = torch.max(output.data, 1)\n",
    "    batch_correct = (batch_prediction == labels).sum().item()\n",
    "    batch_accuracy = batch_correct / num_examples\n",
    "\n",
    "    batch_loss = loss.item()\n",
    "\n",
    "    total_loss += batch_loss\n",
    "    total_correct += batch_correct\n",
    "    total_examples += num_examples\n",
    "    \n",
    "    np_batch_prediction = batch_prediction.data.numpy()\n",
    "    np_batch_labels = labels.data.numpy()\n",
    "    np_data = data.data.numpy()\n",
    "    prediction_label_data.extend(list(zip(np_batch_prediction, np_batch_labels, np_data)))\n",
    "    \n",
    "\n",
    "average_accuracy = total_correct / total_examples\n",
    "average_loss = total_loss / iteration\n",
    "    \n",
    "print('Avg Loss: {loss:.2f}, Avg Acc: {acc:.2f}'.format(loss=average_loss, acc=average_accuracy))"
   ]
  },
  {
   "cell_type": "code",
   "execution_count": 15,
   "metadata": {},
   "outputs": [
    {
     "data": {
      "text/plain": [
       "Text(0.5, 1.0, 'Label: 0, Prediction 8')"
      ]
     },
     "execution_count": 15,
     "metadata": {},
     "output_type": "execute_result"
    },
    {
     "data": {
      "image/png": "[encoded data removed]",
      "text/plain": [
       "<Figure size 432x288 with 2 Axes>"
      ]
     },
     "metadata": {
      "needs_background": "light"
     },
     "output_type": "display_data"
    }
   ],
   "source": [
    "confusion_matrix, mistakes = compute_confusion_matrix(prediction_label_data)\n",
    "# get image with wrong prediction\n",
    "mistake_idx = np.random.randint(len(mistakes))\n",
    "mistake_pred, mistake_label, mistake_data = mistakes[mistake_idx]\n",
    "mistake_img = mistake_data.squeeze().T\n",
    "\n",
    "plt.subplot(121)\n",
    "plt.imshow(np.log(confusion_matrix))\n",
    "plt.title('Log Confusion matrix')\n",
    "plt.xlabel('label')\n",
    "plt.ylabel('prediction')\n",
    "\n",
    "plt.subplot(122)\n",
    "plt.imshow(mistake_img)\n",
    "plt.title('Label: {label}, Prediction {pred}'.format(label=mistake_label, pred=mistake_pred))"
   ]
  },
  {
   "cell_type": "markdown",
   "metadata": {},
   "source": [
    "# Convolutional neural network"
   ]
  },
  {
   "cell_type": "code",
   "execution_count": null,
   "metadata": {},
   "outputs": [],
   "source": [
    "class ConvolutionalNN(torch.nn.Module):\n",
    "    '''\n",
    "    \n",
    "    https://pytorch.org/tutorials/beginner/blitz/neural_networks_tutorial.html#sphx-glr-beginner-blitz-neural-networks-tutorial-py\n",
    "    '''\n",
    "    def __init__(self, indim, outdim, hdim, num_hidden):\n",
    "        '''\n",
    "        '''\n",
    "        super(FullyConnectedNN, self).__init__()\n",
    "        \n",
    "        self.indim = indim\n",
    "        self.outdim = outdim\n",
    "        self.hdim = hdim\n",
    "        self.num_hidden = num_hidden\n",
    "        \n",
    "        # define layers\n",
    "        # if there were two hidden layers processing would look like:\n",
    "        # indim --> hdim --> nonlinearity --> hdim --> nonlinearity --> outdim\n",
    "        # which would require the following mappings:\n",
    "        # (indim --> hdim), (nonlinearity), (hdim --> hdim), (nonlinearity), (hdim --> outdim)\n",
    "        in2hidden = torch.nn.Linear(indim, hdim)\n",
    "        nonlinearity = torch.nn.ReLU()\n",
    "        \n",
    "        layers = [in2hidden, nonlinearity]\n",
    "        for i in range(num_hidden - 1):\n",
    "            hidden2hidden = torch.nn.Linear(hdim, hdim)\n",
    "            nonlinearity = torch.nn.ReLU()\n",
    "            layers.extend([hidden2hidden, nonlinearity])\n",
    "            \n",
    "        hidden2out = torch.nn.Linear(hdim, outdim)\n",
    "        layers.append(hidden2out)\n",
    "        \n",
    "        self.model = torch.nn.Sequential(*layers)\n",
    "        # print(self.model)\n",
    "    \n",
    "    def forward(self, data):\n",
    "        return self.model.forward(data)"
   ]
  }
 ],
 "metadata": {
  "kernelspec": {
   "display_name": "Python 3",
   "language": "python",
   "name": "python3"
  },
  "language_info": {
   "codemirror_mode": {
    "name": "ipython",
    "version": 3
   },
   "file_extension": ".py",
   "mimetype": "text/x-python",
   "name": "python",
   "nbconvert_exporter": "python",
   "pygments_lexer": "ipython3",
   "version": "3.6.8"
  }
 },
 "nbformat": 4,
 "nbformat_minor": 2
}
